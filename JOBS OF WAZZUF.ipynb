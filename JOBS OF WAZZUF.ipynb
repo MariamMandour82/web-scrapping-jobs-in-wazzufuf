{
 "cells": [
  {
   "cell_type": "code",
   "execution_count": 7,
   "id": "8511f204",
   "metadata": {},
   "outputs": [],
   "source": [
    "from bs4 import BeautifulSoup\n",
    "import requests\n",
    "import csv"
   ]
  },
  {
   "cell_type": "code",
   "execution_count": 8,
   "id": "c568ad3b",
   "metadata": {},
   "outputs": [],
   "source": [
    "url=\"https://wuzzuf.net/search/jobs/?filters%5Broles%5D%5B0%5D=IT%2FSoftware%20Development\""
   ]
  },
  {
   "cell_type": "code",
   "execution_count": 9,
   "id": "77d72921",
   "metadata": {},
   "outputs": [
    {
     "data": {
      "text/plain": [
       "<Response [200]>"
      ]
     },
     "execution_count": 9,
     "metadata": {},
     "output_type": "execute_result"
    }
   ],
   "source": [
    "site = requests.get(url)\n",
    "site"
   ]
  },
  {
   "cell_type": "code",
   "execution_count": 10,
   "id": "6c926c72",
   "metadata": {},
   "outputs": [],
   "source": [
    "website = requests.get(\"https://wuzzuf.net/search/jobs/?q=ai+engineer&a=hpb\").text"
   ]
  },
  {
   "cell_type": "code",
   "execution_count": 11,
   "id": "893585af",
   "metadata": {},
   "outputs": [],
   "source": [
    "website = BeautifulSoup(website, \"lxml\")"
   ]
  },
  {
   "cell_type": "code",
   "execution_count": 12,
   "id": "0b61401d",
   "metadata": {},
   "outputs": [],
   "source": [
    "csvfile = open ('documents/jobs.csv', 'w', encoding='utf-8')  \n",
    "writer = csv.writer(csvfile)\n",
    "writer.writerow(['Job title', 'Company', 'location', 'job type'])\n",
    "for i in range(200):\n",
    "    if i >= 0:\n",
    "        url = f\"https://wuzzuf.net/search/jobs/?filters%5Broles%5D%5B0%5D=IT%2FSoftware%20Development&start={i}\"\n",
    "    website = requests.get(url).text\n",
    "    website = BeautifulSoup(website , \"lxml\")\n",
    "    \n",
    "    jobs = website.find_all(\"div\", class_ = \"css-pkv5jc\")\n",
    "\n",
    "    for job in jobs: \n",
    "        jobtitle = job.find(\"a\", class_ = \"css-o171kl\").text\n",
    "        companyname= job.find(\"a\", class_ =\"css-17s97q8\").text\n",
    "        location = job.find(\"span\", class_ = \"css-5wys0k\").text\n",
    "        jobtype = job.find(\"span\", class_= \"css-1ve4b75 eoyjyou0\").text\n",
    "\n",
    "        writer.writerow([jobtitle, companyname, location, jobtype ])\n",
    "csvfile.close()"
   ]
  },
  {
   "cell_type": "code",
   "execution_count": 13,
   "id": "97cb4126",
   "metadata": {},
   "outputs": [],
   "source": [
    "import pandas as pd\n"
   ]
  },
  {
   "cell_type": "code",
   "execution_count": 14,
   "id": "220ac516",
   "metadata": {},
   "outputs": [],
   "source": [
    "df = pd.read_csv('documents/jobs.csv')\n",
    "\n",
    "# Remove empty rows\n",
    "df = df.dropna()"
   ]
  },
  {
   "cell_type": "code",
   "execution_count": 15,
   "id": "3ba45628",
   "metadata": {},
   "outputs": [
    {
     "data": {
      "text/html": [
       "<div>\n",
       "<style scoped>\n",
       "    .dataframe tbody tr th:only-of-type {\n",
       "        vertical-align: middle;\n",
       "    }\n",
       "\n",
       "    .dataframe tbody tr th {\n",
       "        vertical-align: top;\n",
       "    }\n",
       "\n",
       "    .dataframe thead th {\n",
       "        text-align: right;\n",
       "    }\n",
       "</style>\n",
       "<table border=\"1\" class=\"dataframe\">\n",
       "  <thead>\n",
       "    <tr style=\"text-align: right;\">\n",
       "      <th></th>\n",
       "      <th>Job title</th>\n",
       "      <th>Company</th>\n",
       "      <th>location</th>\n",
       "      <th>job type</th>\n",
       "    </tr>\n",
       "  </thead>\n",
       "  <tbody>\n",
       "    <tr>\n",
       "      <th>0</th>\n",
       "      <td>Client Advisor</td>\n",
       "      <td>DOLCE&amp;GABBANA -</td>\n",
       "      <td>Riyadh, Saudi Arabia</td>\n",
       "      <td>Full Time</td>\n",
       "    </tr>\n",
       "    <tr>\n",
       "      <th>1</th>\n",
       "      <td>№354-Assistant Waiter/Tress</td>\n",
       "      <td>theWORK -</td>\n",
       "      <td>Riyadh, Saudi Arabia</td>\n",
       "      <td>Freelance / Project</td>\n",
       "    </tr>\n",
       "    <tr>\n",
       "      <th>2</th>\n",
       "      <td>Business Analyst</td>\n",
       "      <td>IDEMIA -</td>\n",
       "      <td>Cairo, Egypt</td>\n",
       "      <td>Full Time</td>\n",
       "    </tr>\n",
       "    <tr>\n",
       "      <th>3</th>\n",
       "      <td>IT Manager</td>\n",
       "      <td>Confidential -</td>\n",
       "      <td>Heliopolis, Cairo, Egypt</td>\n",
       "      <td>Full Time</td>\n",
       "    </tr>\n",
       "    <tr>\n",
       "      <th>4</th>\n",
       "      <td>Senior Specialist, Projects Planning &amp; Scheduling</td>\n",
       "      <td>ROSHN l روشن -</td>\n",
       "      <td>Makkah, Saudi Arabia</td>\n",
       "      <td>Full Time</td>\n",
       "    </tr>\n",
       "    <tr>\n",
       "      <th>...</th>\n",
       "      <td>...</td>\n",
       "      <td>...</td>\n",
       "      <td>...</td>\n",
       "      <td>...</td>\n",
       "    </tr>\n",
       "    <tr>\n",
       "      <th>2995</th>\n",
       "      <td>SAP FICO Consultant</td>\n",
       "      <td>jupiter 2000 -</td>\n",
       "      <td>Cairo, Egypt</td>\n",
       "      <td>Full Time</td>\n",
       "    </tr>\n",
       "    <tr>\n",
       "      <th>2996</th>\n",
       "      <td>Penetration Tester / Cybersecurity Trainer</td>\n",
       "      <td>CYBERAWARESECURITY -</td>\n",
       "      <td>Cairo, Egypt</td>\n",
       "      <td>Full Time</td>\n",
       "    </tr>\n",
       "    <tr>\n",
       "      <th>2997</th>\n",
       "      <td>Associate Consultant</td>\n",
       "      <td>Robiquity -</td>\n",
       "      <td>New Cairo, Cairo, Egypt</td>\n",
       "      <td>Full Time</td>\n",
       "    </tr>\n",
       "    <tr>\n",
       "      <th>2998</th>\n",
       "      <td>Micros POS System Expert for Freelance Project</td>\n",
       "      <td>Epic Systems -</td>\n",
       "      <td>Haram, Giza, Egypt</td>\n",
       "      <td>Freelance / Project</td>\n",
       "    </tr>\n",
       "    <tr>\n",
       "      <th>2999</th>\n",
       "      <td>Odoo ERP Functional Consultant</td>\n",
       "      <td>Global Business solutions - GBS -</td>\n",
       "      <td>Nasr City, Cairo, Egypt</td>\n",
       "      <td>Full Time</td>\n",
       "    </tr>\n",
       "  </tbody>\n",
       "</table>\n",
       "<p>3000 rows × 4 columns</p>\n",
       "</div>"
      ],
      "text/plain": [
       "                                              Job title  \\\n",
       "0                                        Client Advisor   \n",
       "1                           №354-Assistant Waiter/Tress   \n",
       "2                                      Business Analyst   \n",
       "3                                            IT Manager   \n",
       "4     Senior Specialist, Projects Planning & Scheduling   \n",
       "...                                                 ...   \n",
       "2995                                SAP FICO Consultant   \n",
       "2996         Penetration Tester / Cybersecurity Trainer   \n",
       "2997                               Associate Consultant   \n",
       "2998     Micros POS System Expert for Freelance Project   \n",
       "2999                     Odoo ERP Functional Consultant   \n",
       "\n",
       "                                Company                   location  \\\n",
       "0                       DOLCE&GABBANA -      Riyadh, Saudi Arabia    \n",
       "1                             theWORK -      Riyadh, Saudi Arabia    \n",
       "2                              IDEMIA -              Cairo, Egypt    \n",
       "3                        Confidential -  Heliopolis, Cairo, Egypt    \n",
       "4                        ROSHN l روشن -      Makkah, Saudi Arabia    \n",
       "...                                 ...                        ...   \n",
       "2995                     jupiter 2000 -              Cairo, Egypt    \n",
       "2996               CYBERAWARESECURITY -              Cairo, Egypt    \n",
       "2997                        Robiquity -   New Cairo, Cairo, Egypt    \n",
       "2998                     Epic Systems -        Haram, Giza, Egypt    \n",
       "2999  Global Business solutions - GBS -   Nasr City, Cairo, Egypt    \n",
       "\n",
       "                 job type  \n",
       "0               Full Time  \n",
       "1     Freelance / Project  \n",
       "2               Full Time  \n",
       "3               Full Time  \n",
       "4               Full Time  \n",
       "...                   ...  \n",
       "2995            Full Time  \n",
       "2996            Full Time  \n",
       "2997            Full Time  \n",
       "2998  Freelance / Project  \n",
       "2999            Full Time  \n",
       "\n",
       "[3000 rows x 4 columns]"
      ]
     },
     "execution_count": 15,
     "metadata": {},
     "output_type": "execute_result"
    }
   ],
   "source": [
    "df"
   ]
  },
  {
   "cell_type": "code",
   "execution_count": 17,
   "id": "1e9cdf6b",
   "metadata": {},
   "outputs": [],
   "source": [
    "df.to_csv('documents/SW_JOBS_dataset.csv', index=False)"
   ]
  },
  {
   "cell_type": "code",
   "execution_count": null,
   "id": "24b4bfb8",
   "metadata": {},
   "outputs": [],
   "source": []
  }
 ],
 "metadata": {
  "kernelspec": {
   "display_name": "Python 3 (ipykernel)",
   "language": "python",
   "name": "python3"
  },
  "language_info": {
   "codemirror_mode": {
    "name": "ipython",
    "version": 3
   },
   "file_extension": ".py",
   "mimetype": "text/x-python",
   "name": "python",
   "nbconvert_exporter": "python",
   "pygments_lexer": "ipython3",
   "version": "3.11.5"
  }
 },
 "nbformat": 4,
 "nbformat_minor": 5
}
